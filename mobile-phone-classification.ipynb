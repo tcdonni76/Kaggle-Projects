{
 "cells": [
  {
   "cell_type": "code",
   "execution_count": 1,
   "id": "0da2c383",
   "metadata": {
    "_cell_guid": "b1076dfc-b9ad-4769-8c92-a6c4dae69d19",
    "_uuid": "8f2839f25d086af736a60e9eeb907d3b93b6e0e5",
    "execution": {
     "iopub.execute_input": "2024-02-10T16:10:21.367062Z",
     "iopub.status.busy": "2024-02-10T16:10:21.366313Z",
     "iopub.status.idle": "2024-02-10T16:10:22.237669Z",
     "shell.execute_reply": "2024-02-10T16:10:22.236478Z"
    },
    "papermill": {
     "duration": 0.88814,
     "end_time": "2024-02-10T16:10:22.239888",
     "exception": false,
     "start_time": "2024-02-10T16:10:21.351748",
     "status": "completed"
    },
    "tags": []
   },
   "outputs": [
    {
     "name": "stdout",
     "output_type": "stream",
     "text": [
      "/kaggle/input/mobile-price-classification/train.csv\n",
      "/kaggle/input/mobile-price-classification/test.csv\n"
     ]
    }
   ],
   "source": [
    "# This Python 3 environment comes with many helpful analytics libraries installed\n",
    "# It is defined by the kaggle/python Docker image: https://github.com/kaggle/docker-python\n",
    "# For example, here's several helpful packages to load\n",
    "\n",
    "import numpy as np # linear algebra\n",
    "import pandas as pd # data processing, CSV file I/O (e.g. pd.read_csv)\n",
    "\n",
    "# Input data files are available in the read-only \"../input/\" directory\n",
    "# For example, running this (by clicking run or pressing Shift+Enter) will list all files under the input directory\n",
    "\n",
    "import os\n",
    "for dirname, _, filenames in os.walk('/kaggle/input'):\n",
    "    for filename in filenames:\n",
    "        print(os.path.join(dirname, filename))\n",
    "\n",
    "# You can write up to 20GB to the current directory (/kaggle/working/) that gets preserved as output when you create a version using \"Save & Run All\" \n",
    "# You can also write temporary files to /kaggle/temp/, but they won't be saved outside of the current session"
   ]
  },
  {
   "cell_type": "markdown",
   "id": "73576602",
   "metadata": {
    "papermill": {
     "duration": 0.013526,
     "end_time": "2024-02-10T16:10:22.267034",
     "exception": false,
     "start_time": "2024-02-10T16:10:22.253508",
     "status": "completed"
    },
    "tags": []
   },
   "source": [
    "# EDA"
   ]
  },
  {
   "cell_type": "markdown",
   "id": "7fb4a39c",
   "metadata": {
    "papermill": {
     "duration": 0.012467,
     "end_time": "2024-02-10T16:10:22.293605",
     "exception": false,
     "start_time": "2024-02-10T16:10:22.281138",
     "status": "completed"
    },
    "tags": []
   },
   "source": [
    "## Import the data"
   ]
  },
  {
   "cell_type": "code",
   "execution_count": 2,
   "id": "eb5846fc",
   "metadata": {
    "execution": {
     "iopub.execute_input": "2024-02-10T16:10:22.320970Z",
     "iopub.status.busy": "2024-02-10T16:10:22.320539Z",
     "iopub.status.idle": "2024-02-10T16:10:22.380574Z",
     "shell.execute_reply": "2024-02-10T16:10:22.379670Z"
    },
    "papermill": {
     "duration": 0.075641,
     "end_time": "2024-02-10T16:10:22.382688",
     "exception": false,
     "start_time": "2024-02-10T16:10:22.307047",
     "status": "completed"
    },
    "tags": []
   },
   "outputs": [
    {
     "data": {
      "text/html": [
       "<div>\n",
       "<style scoped>\n",
       "    .dataframe tbody tr th:only-of-type {\n",
       "        vertical-align: middle;\n",
       "    }\n",
       "\n",
       "    .dataframe tbody tr th {\n",
       "        vertical-align: top;\n",
       "    }\n",
       "\n",
       "    .dataframe thead th {\n",
       "        text-align: right;\n",
       "    }\n",
       "</style>\n",
       "<table border=\"1\" class=\"dataframe\">\n",
       "  <thead>\n",
       "    <tr style=\"text-align: right;\">\n",
       "      <th></th>\n",
       "      <th>battery_power</th>\n",
       "      <th>blue</th>\n",
       "      <th>clock_speed</th>\n",
       "      <th>dual_sim</th>\n",
       "      <th>fc</th>\n",
       "      <th>four_g</th>\n",
       "      <th>int_memory</th>\n",
       "      <th>m_dep</th>\n",
       "      <th>mobile_wt</th>\n",
       "      <th>n_cores</th>\n",
       "      <th>...</th>\n",
       "      <th>px_height</th>\n",
       "      <th>px_width</th>\n",
       "      <th>ram</th>\n",
       "      <th>sc_h</th>\n",
       "      <th>sc_w</th>\n",
       "      <th>talk_time</th>\n",
       "      <th>three_g</th>\n",
       "      <th>touch_screen</th>\n",
       "      <th>wifi</th>\n",
       "      <th>price_range</th>\n",
       "    </tr>\n",
       "  </thead>\n",
       "  <tbody>\n",
       "    <tr>\n",
       "      <th>0</th>\n",
       "      <td>842</td>\n",
       "      <td>0</td>\n",
       "      <td>2.2</td>\n",
       "      <td>0</td>\n",
       "      <td>1</td>\n",
       "      <td>0</td>\n",
       "      <td>7</td>\n",
       "      <td>0.6</td>\n",
       "      <td>188</td>\n",
       "      <td>2</td>\n",
       "      <td>...</td>\n",
       "      <td>20</td>\n",
       "      <td>756</td>\n",
       "      <td>2549</td>\n",
       "      <td>9</td>\n",
       "      <td>7</td>\n",
       "      <td>19</td>\n",
       "      <td>0</td>\n",
       "      <td>0</td>\n",
       "      <td>1</td>\n",
       "      <td>1</td>\n",
       "    </tr>\n",
       "    <tr>\n",
       "      <th>1</th>\n",
       "      <td>1021</td>\n",
       "      <td>1</td>\n",
       "      <td>0.5</td>\n",
       "      <td>1</td>\n",
       "      <td>0</td>\n",
       "      <td>1</td>\n",
       "      <td>53</td>\n",
       "      <td>0.7</td>\n",
       "      <td>136</td>\n",
       "      <td>3</td>\n",
       "      <td>...</td>\n",
       "      <td>905</td>\n",
       "      <td>1988</td>\n",
       "      <td>2631</td>\n",
       "      <td>17</td>\n",
       "      <td>3</td>\n",
       "      <td>7</td>\n",
       "      <td>1</td>\n",
       "      <td>1</td>\n",
       "      <td>0</td>\n",
       "      <td>2</td>\n",
       "    </tr>\n",
       "    <tr>\n",
       "      <th>2</th>\n",
       "      <td>563</td>\n",
       "      <td>1</td>\n",
       "      <td>0.5</td>\n",
       "      <td>1</td>\n",
       "      <td>2</td>\n",
       "      <td>1</td>\n",
       "      <td>41</td>\n",
       "      <td>0.9</td>\n",
       "      <td>145</td>\n",
       "      <td>5</td>\n",
       "      <td>...</td>\n",
       "      <td>1263</td>\n",
       "      <td>1716</td>\n",
       "      <td>2603</td>\n",
       "      <td>11</td>\n",
       "      <td>2</td>\n",
       "      <td>9</td>\n",
       "      <td>1</td>\n",
       "      <td>1</td>\n",
       "      <td>0</td>\n",
       "      <td>2</td>\n",
       "    </tr>\n",
       "    <tr>\n",
       "      <th>3</th>\n",
       "      <td>615</td>\n",
       "      <td>1</td>\n",
       "      <td>2.5</td>\n",
       "      <td>0</td>\n",
       "      <td>0</td>\n",
       "      <td>0</td>\n",
       "      <td>10</td>\n",
       "      <td>0.8</td>\n",
       "      <td>131</td>\n",
       "      <td>6</td>\n",
       "      <td>...</td>\n",
       "      <td>1216</td>\n",
       "      <td>1786</td>\n",
       "      <td>2769</td>\n",
       "      <td>16</td>\n",
       "      <td>8</td>\n",
       "      <td>11</td>\n",
       "      <td>1</td>\n",
       "      <td>0</td>\n",
       "      <td>0</td>\n",
       "      <td>2</td>\n",
       "    </tr>\n",
       "    <tr>\n",
       "      <th>4</th>\n",
       "      <td>1821</td>\n",
       "      <td>1</td>\n",
       "      <td>1.2</td>\n",
       "      <td>0</td>\n",
       "      <td>13</td>\n",
       "      <td>1</td>\n",
       "      <td>44</td>\n",
       "      <td>0.6</td>\n",
       "      <td>141</td>\n",
       "      <td>2</td>\n",
       "      <td>...</td>\n",
       "      <td>1208</td>\n",
       "      <td>1212</td>\n",
       "      <td>1411</td>\n",
       "      <td>8</td>\n",
       "      <td>2</td>\n",
       "      <td>15</td>\n",
       "      <td>1</td>\n",
       "      <td>1</td>\n",
       "      <td>0</td>\n",
       "      <td>1</td>\n",
       "    </tr>\n",
       "    <tr>\n",
       "      <th>...</th>\n",
       "      <td>...</td>\n",
       "      <td>...</td>\n",
       "      <td>...</td>\n",
       "      <td>...</td>\n",
       "      <td>...</td>\n",
       "      <td>...</td>\n",
       "      <td>...</td>\n",
       "      <td>...</td>\n",
       "      <td>...</td>\n",
       "      <td>...</td>\n",
       "      <td>...</td>\n",
       "      <td>...</td>\n",
       "      <td>...</td>\n",
       "      <td>...</td>\n",
       "      <td>...</td>\n",
       "      <td>...</td>\n",
       "      <td>...</td>\n",
       "      <td>...</td>\n",
       "      <td>...</td>\n",
       "      <td>...</td>\n",
       "      <td>...</td>\n",
       "    </tr>\n",
       "    <tr>\n",
       "      <th>1995</th>\n",
       "      <td>794</td>\n",
       "      <td>1</td>\n",
       "      <td>0.5</td>\n",
       "      <td>1</td>\n",
       "      <td>0</td>\n",
       "      <td>1</td>\n",
       "      <td>2</td>\n",
       "      <td>0.8</td>\n",
       "      <td>106</td>\n",
       "      <td>6</td>\n",
       "      <td>...</td>\n",
       "      <td>1222</td>\n",
       "      <td>1890</td>\n",
       "      <td>668</td>\n",
       "      <td>13</td>\n",
       "      <td>4</td>\n",
       "      <td>19</td>\n",
       "      <td>1</td>\n",
       "      <td>1</td>\n",
       "      <td>0</td>\n",
       "      <td>0</td>\n",
       "    </tr>\n",
       "    <tr>\n",
       "      <th>1996</th>\n",
       "      <td>1965</td>\n",
       "      <td>1</td>\n",
       "      <td>2.6</td>\n",
       "      <td>1</td>\n",
       "      <td>0</td>\n",
       "      <td>0</td>\n",
       "      <td>39</td>\n",
       "      <td>0.2</td>\n",
       "      <td>187</td>\n",
       "      <td>4</td>\n",
       "      <td>...</td>\n",
       "      <td>915</td>\n",
       "      <td>1965</td>\n",
       "      <td>2032</td>\n",
       "      <td>11</td>\n",
       "      <td>10</td>\n",
       "      <td>16</td>\n",
       "      <td>1</td>\n",
       "      <td>1</td>\n",
       "      <td>1</td>\n",
       "      <td>2</td>\n",
       "    </tr>\n",
       "    <tr>\n",
       "      <th>1997</th>\n",
       "      <td>1911</td>\n",
       "      <td>0</td>\n",
       "      <td>0.9</td>\n",
       "      <td>1</td>\n",
       "      <td>1</td>\n",
       "      <td>1</td>\n",
       "      <td>36</td>\n",
       "      <td>0.7</td>\n",
       "      <td>108</td>\n",
       "      <td>8</td>\n",
       "      <td>...</td>\n",
       "      <td>868</td>\n",
       "      <td>1632</td>\n",
       "      <td>3057</td>\n",
       "      <td>9</td>\n",
       "      <td>1</td>\n",
       "      <td>5</td>\n",
       "      <td>1</td>\n",
       "      <td>1</td>\n",
       "      <td>0</td>\n",
       "      <td>3</td>\n",
       "    </tr>\n",
       "    <tr>\n",
       "      <th>1998</th>\n",
       "      <td>1512</td>\n",
       "      <td>0</td>\n",
       "      <td>0.9</td>\n",
       "      <td>0</td>\n",
       "      <td>4</td>\n",
       "      <td>1</td>\n",
       "      <td>46</td>\n",
       "      <td>0.1</td>\n",
       "      <td>145</td>\n",
       "      <td>5</td>\n",
       "      <td>...</td>\n",
       "      <td>336</td>\n",
       "      <td>670</td>\n",
       "      <td>869</td>\n",
       "      <td>18</td>\n",
       "      <td>10</td>\n",
       "      <td>19</td>\n",
       "      <td>1</td>\n",
       "      <td>1</td>\n",
       "      <td>1</td>\n",
       "      <td>0</td>\n",
       "    </tr>\n",
       "    <tr>\n",
       "      <th>1999</th>\n",
       "      <td>510</td>\n",
       "      <td>1</td>\n",
       "      <td>2.0</td>\n",
       "      <td>1</td>\n",
       "      <td>5</td>\n",
       "      <td>1</td>\n",
       "      <td>45</td>\n",
       "      <td>0.9</td>\n",
       "      <td>168</td>\n",
       "      <td>6</td>\n",
       "      <td>...</td>\n",
       "      <td>483</td>\n",
       "      <td>754</td>\n",
       "      <td>3919</td>\n",
       "      <td>19</td>\n",
       "      <td>4</td>\n",
       "      <td>2</td>\n",
       "      <td>1</td>\n",
       "      <td>1</td>\n",
       "      <td>1</td>\n",
       "      <td>3</td>\n",
       "    </tr>\n",
       "  </tbody>\n",
       "</table>\n",
       "<p>2000 rows × 21 columns</p>\n",
       "</div>"
      ],
      "text/plain": [
       "      battery_power  blue  clock_speed  dual_sim  fc  four_g  int_memory  \\\n",
       "0               842     0          2.2         0   1       0           7   \n",
       "1              1021     1          0.5         1   0       1          53   \n",
       "2               563     1          0.5         1   2       1          41   \n",
       "3               615     1          2.5         0   0       0          10   \n",
       "4              1821     1          1.2         0  13       1          44   \n",
       "...             ...   ...          ...       ...  ..     ...         ...   \n",
       "1995            794     1          0.5         1   0       1           2   \n",
       "1996           1965     1          2.6         1   0       0          39   \n",
       "1997           1911     0          0.9         1   1       1          36   \n",
       "1998           1512     0          0.9         0   4       1          46   \n",
       "1999            510     1          2.0         1   5       1          45   \n",
       "\n",
       "      m_dep  mobile_wt  n_cores  ...  px_height  px_width   ram  sc_h  sc_w  \\\n",
       "0       0.6        188        2  ...         20       756  2549     9     7   \n",
       "1       0.7        136        3  ...        905      1988  2631    17     3   \n",
       "2       0.9        145        5  ...       1263      1716  2603    11     2   \n",
       "3       0.8        131        6  ...       1216      1786  2769    16     8   \n",
       "4       0.6        141        2  ...       1208      1212  1411     8     2   \n",
       "...     ...        ...      ...  ...        ...       ...   ...   ...   ...   \n",
       "1995    0.8        106        6  ...       1222      1890   668    13     4   \n",
       "1996    0.2        187        4  ...        915      1965  2032    11    10   \n",
       "1997    0.7        108        8  ...        868      1632  3057     9     1   \n",
       "1998    0.1        145        5  ...        336       670   869    18    10   \n",
       "1999    0.9        168        6  ...        483       754  3919    19     4   \n",
       "\n",
       "      talk_time  three_g  touch_screen  wifi  price_range  \n",
       "0            19        0             0     1            1  \n",
       "1             7        1             1     0            2  \n",
       "2             9        1             1     0            2  \n",
       "3            11        1             0     0            2  \n",
       "4            15        1             1     0            1  \n",
       "...         ...      ...           ...   ...          ...  \n",
       "1995         19        1             1     0            0  \n",
       "1996         16        1             1     1            2  \n",
       "1997          5        1             1     0            3  \n",
       "1998         19        1             1     1            0  \n",
       "1999          2        1             1     1            3  \n",
       "\n",
       "[2000 rows x 21 columns]"
      ]
     },
     "execution_count": 2,
     "metadata": {},
     "output_type": "execute_result"
    }
   ],
   "source": [
    "df = pd.read_csv('/kaggle/input/mobile-price-classification/train.csv')\n",
    "\n",
    "df"
   ]
  },
  {
   "cell_type": "code",
   "execution_count": 3,
   "id": "a0a6a898",
   "metadata": {
    "execution": {
     "iopub.execute_input": "2024-02-10T16:10:22.411536Z",
     "iopub.status.busy": "2024-02-10T16:10:22.411283Z",
     "iopub.status.idle": "2024-02-10T16:10:22.440365Z",
     "shell.execute_reply": "2024-02-10T16:10:22.439454Z"
    },
    "papermill": {
     "duration": 0.045145,
     "end_time": "2024-02-10T16:10:22.442252",
     "exception": false,
     "start_time": "2024-02-10T16:10:22.397107",
     "status": "completed"
    },
    "tags": []
   },
   "outputs": [
    {
     "data": {
      "text/html": [
       "<div>\n",
       "<style scoped>\n",
       "    .dataframe tbody tr th:only-of-type {\n",
       "        vertical-align: middle;\n",
       "    }\n",
       "\n",
       "    .dataframe tbody tr th {\n",
       "        vertical-align: top;\n",
       "    }\n",
       "\n",
       "    .dataframe thead th {\n",
       "        text-align: right;\n",
       "    }\n",
       "</style>\n",
       "<table border=\"1\" class=\"dataframe\">\n",
       "  <thead>\n",
       "    <tr style=\"text-align: right;\">\n",
       "      <th></th>\n",
       "      <th>id</th>\n",
       "      <th>battery_power</th>\n",
       "      <th>blue</th>\n",
       "      <th>clock_speed</th>\n",
       "      <th>dual_sim</th>\n",
       "      <th>fc</th>\n",
       "      <th>four_g</th>\n",
       "      <th>int_memory</th>\n",
       "      <th>m_dep</th>\n",
       "      <th>mobile_wt</th>\n",
       "      <th>...</th>\n",
       "      <th>pc</th>\n",
       "      <th>px_height</th>\n",
       "      <th>px_width</th>\n",
       "      <th>ram</th>\n",
       "      <th>sc_h</th>\n",
       "      <th>sc_w</th>\n",
       "      <th>talk_time</th>\n",
       "      <th>three_g</th>\n",
       "      <th>touch_screen</th>\n",
       "      <th>wifi</th>\n",
       "    </tr>\n",
       "  </thead>\n",
       "  <tbody>\n",
       "    <tr>\n",
       "      <th>0</th>\n",
       "      <td>1</td>\n",
       "      <td>1043</td>\n",
       "      <td>1</td>\n",
       "      <td>1.8</td>\n",
       "      <td>1</td>\n",
       "      <td>14</td>\n",
       "      <td>0</td>\n",
       "      <td>5</td>\n",
       "      <td>0.1</td>\n",
       "      <td>193</td>\n",
       "      <td>...</td>\n",
       "      <td>16</td>\n",
       "      <td>226</td>\n",
       "      <td>1412</td>\n",
       "      <td>3476</td>\n",
       "      <td>12</td>\n",
       "      <td>7</td>\n",
       "      <td>2</td>\n",
       "      <td>0</td>\n",
       "      <td>1</td>\n",
       "      <td>0</td>\n",
       "    </tr>\n",
       "    <tr>\n",
       "      <th>1</th>\n",
       "      <td>2</td>\n",
       "      <td>841</td>\n",
       "      <td>1</td>\n",
       "      <td>0.5</td>\n",
       "      <td>1</td>\n",
       "      <td>4</td>\n",
       "      <td>1</td>\n",
       "      <td>61</td>\n",
       "      <td>0.8</td>\n",
       "      <td>191</td>\n",
       "      <td>...</td>\n",
       "      <td>12</td>\n",
       "      <td>746</td>\n",
       "      <td>857</td>\n",
       "      <td>3895</td>\n",
       "      <td>6</td>\n",
       "      <td>0</td>\n",
       "      <td>7</td>\n",
       "      <td>1</td>\n",
       "      <td>0</td>\n",
       "      <td>0</td>\n",
       "    </tr>\n",
       "    <tr>\n",
       "      <th>2</th>\n",
       "      <td>3</td>\n",
       "      <td>1807</td>\n",
       "      <td>1</td>\n",
       "      <td>2.8</td>\n",
       "      <td>0</td>\n",
       "      <td>1</td>\n",
       "      <td>0</td>\n",
       "      <td>27</td>\n",
       "      <td>0.9</td>\n",
       "      <td>186</td>\n",
       "      <td>...</td>\n",
       "      <td>4</td>\n",
       "      <td>1270</td>\n",
       "      <td>1366</td>\n",
       "      <td>2396</td>\n",
       "      <td>17</td>\n",
       "      <td>10</td>\n",
       "      <td>10</td>\n",
       "      <td>0</td>\n",
       "      <td>1</td>\n",
       "      <td>1</td>\n",
       "    </tr>\n",
       "    <tr>\n",
       "      <th>3</th>\n",
       "      <td>4</td>\n",
       "      <td>1546</td>\n",
       "      <td>0</td>\n",
       "      <td>0.5</td>\n",
       "      <td>1</td>\n",
       "      <td>18</td>\n",
       "      <td>1</td>\n",
       "      <td>25</td>\n",
       "      <td>0.5</td>\n",
       "      <td>96</td>\n",
       "      <td>...</td>\n",
       "      <td>20</td>\n",
       "      <td>295</td>\n",
       "      <td>1752</td>\n",
       "      <td>3893</td>\n",
       "      <td>10</td>\n",
       "      <td>0</td>\n",
       "      <td>7</td>\n",
       "      <td>1</td>\n",
       "      <td>1</td>\n",
       "      <td>0</td>\n",
       "    </tr>\n",
       "    <tr>\n",
       "      <th>4</th>\n",
       "      <td>5</td>\n",
       "      <td>1434</td>\n",
       "      <td>0</td>\n",
       "      <td>1.4</td>\n",
       "      <td>0</td>\n",
       "      <td>11</td>\n",
       "      <td>1</td>\n",
       "      <td>49</td>\n",
       "      <td>0.5</td>\n",
       "      <td>108</td>\n",
       "      <td>...</td>\n",
       "      <td>18</td>\n",
       "      <td>749</td>\n",
       "      <td>810</td>\n",
       "      <td>1773</td>\n",
       "      <td>15</td>\n",
       "      <td>8</td>\n",
       "      <td>7</td>\n",
       "      <td>1</td>\n",
       "      <td>0</td>\n",
       "      <td>1</td>\n",
       "    </tr>\n",
       "    <tr>\n",
       "      <th>...</th>\n",
       "      <td>...</td>\n",
       "      <td>...</td>\n",
       "      <td>...</td>\n",
       "      <td>...</td>\n",
       "      <td>...</td>\n",
       "      <td>...</td>\n",
       "      <td>...</td>\n",
       "      <td>...</td>\n",
       "      <td>...</td>\n",
       "      <td>...</td>\n",
       "      <td>...</td>\n",
       "      <td>...</td>\n",
       "      <td>...</td>\n",
       "      <td>...</td>\n",
       "      <td>...</td>\n",
       "      <td>...</td>\n",
       "      <td>...</td>\n",
       "      <td>...</td>\n",
       "      <td>...</td>\n",
       "      <td>...</td>\n",
       "      <td>...</td>\n",
       "    </tr>\n",
       "    <tr>\n",
       "      <th>995</th>\n",
       "      <td>996</td>\n",
       "      <td>1700</td>\n",
       "      <td>1</td>\n",
       "      <td>1.9</td>\n",
       "      <td>0</td>\n",
       "      <td>0</td>\n",
       "      <td>1</td>\n",
       "      <td>54</td>\n",
       "      <td>0.5</td>\n",
       "      <td>170</td>\n",
       "      <td>...</td>\n",
       "      <td>17</td>\n",
       "      <td>644</td>\n",
       "      <td>913</td>\n",
       "      <td>2121</td>\n",
       "      <td>14</td>\n",
       "      <td>8</td>\n",
       "      <td>15</td>\n",
       "      <td>1</td>\n",
       "      <td>1</td>\n",
       "      <td>0</td>\n",
       "    </tr>\n",
       "    <tr>\n",
       "      <th>996</th>\n",
       "      <td>997</td>\n",
       "      <td>609</td>\n",
       "      <td>0</td>\n",
       "      <td>1.8</td>\n",
       "      <td>1</td>\n",
       "      <td>0</td>\n",
       "      <td>0</td>\n",
       "      <td>13</td>\n",
       "      <td>0.9</td>\n",
       "      <td>186</td>\n",
       "      <td>...</td>\n",
       "      <td>2</td>\n",
       "      <td>1152</td>\n",
       "      <td>1632</td>\n",
       "      <td>1933</td>\n",
       "      <td>8</td>\n",
       "      <td>1</td>\n",
       "      <td>19</td>\n",
       "      <td>0</td>\n",
       "      <td>1</td>\n",
       "      <td>1</td>\n",
       "    </tr>\n",
       "    <tr>\n",
       "      <th>997</th>\n",
       "      <td>998</td>\n",
       "      <td>1185</td>\n",
       "      <td>0</td>\n",
       "      <td>1.4</td>\n",
       "      <td>0</td>\n",
       "      <td>1</td>\n",
       "      <td>1</td>\n",
       "      <td>8</td>\n",
       "      <td>0.5</td>\n",
       "      <td>80</td>\n",
       "      <td>...</td>\n",
       "      <td>12</td>\n",
       "      <td>477</td>\n",
       "      <td>825</td>\n",
       "      <td>1223</td>\n",
       "      <td>5</td>\n",
       "      <td>0</td>\n",
       "      <td>14</td>\n",
       "      <td>1</td>\n",
       "      <td>0</td>\n",
       "      <td>0</td>\n",
       "    </tr>\n",
       "    <tr>\n",
       "      <th>998</th>\n",
       "      <td>999</td>\n",
       "      <td>1533</td>\n",
       "      <td>1</td>\n",
       "      <td>0.5</td>\n",
       "      <td>1</td>\n",
       "      <td>0</td>\n",
       "      <td>0</td>\n",
       "      <td>50</td>\n",
       "      <td>0.4</td>\n",
       "      <td>171</td>\n",
       "      <td>...</td>\n",
       "      <td>12</td>\n",
       "      <td>38</td>\n",
       "      <td>832</td>\n",
       "      <td>2509</td>\n",
       "      <td>15</td>\n",
       "      <td>11</td>\n",
       "      <td>6</td>\n",
       "      <td>0</td>\n",
       "      <td>1</td>\n",
       "      <td>0</td>\n",
       "    </tr>\n",
       "    <tr>\n",
       "      <th>999</th>\n",
       "      <td>1000</td>\n",
       "      <td>1270</td>\n",
       "      <td>1</td>\n",
       "      <td>0.5</td>\n",
       "      <td>0</td>\n",
       "      <td>4</td>\n",
       "      <td>1</td>\n",
       "      <td>35</td>\n",
       "      <td>0.1</td>\n",
       "      <td>140</td>\n",
       "      <td>...</td>\n",
       "      <td>19</td>\n",
       "      <td>457</td>\n",
       "      <td>608</td>\n",
       "      <td>2828</td>\n",
       "      <td>9</td>\n",
       "      <td>2</td>\n",
       "      <td>3</td>\n",
       "      <td>1</td>\n",
       "      <td>0</td>\n",
       "      <td>1</td>\n",
       "    </tr>\n",
       "  </tbody>\n",
       "</table>\n",
       "<p>1000 rows × 21 columns</p>\n",
       "</div>"
      ],
      "text/plain": [
       "       id  battery_power  blue  clock_speed  dual_sim  fc  four_g  int_memory  \\\n",
       "0       1           1043     1          1.8         1  14       0           5   \n",
       "1       2            841     1          0.5         1   4       1          61   \n",
       "2       3           1807     1          2.8         0   1       0          27   \n",
       "3       4           1546     0          0.5         1  18       1          25   \n",
       "4       5           1434     0          1.4         0  11       1          49   \n",
       "..    ...            ...   ...          ...       ...  ..     ...         ...   \n",
       "995   996           1700     1          1.9         0   0       1          54   \n",
       "996   997            609     0          1.8         1   0       0          13   \n",
       "997   998           1185     0          1.4         0   1       1           8   \n",
       "998   999           1533     1          0.5         1   0       0          50   \n",
       "999  1000           1270     1          0.5         0   4       1          35   \n",
       "\n",
       "     m_dep  mobile_wt  ...  pc  px_height  px_width   ram  sc_h  sc_w  \\\n",
       "0      0.1        193  ...  16        226      1412  3476    12     7   \n",
       "1      0.8        191  ...  12        746       857  3895     6     0   \n",
       "2      0.9        186  ...   4       1270      1366  2396    17    10   \n",
       "3      0.5         96  ...  20        295      1752  3893    10     0   \n",
       "4      0.5        108  ...  18        749       810  1773    15     8   \n",
       "..     ...        ...  ...  ..        ...       ...   ...   ...   ...   \n",
       "995    0.5        170  ...  17        644       913  2121    14     8   \n",
       "996    0.9        186  ...   2       1152      1632  1933     8     1   \n",
       "997    0.5         80  ...  12        477       825  1223     5     0   \n",
       "998    0.4        171  ...  12         38       832  2509    15    11   \n",
       "999    0.1        140  ...  19        457       608  2828     9     2   \n",
       "\n",
       "     talk_time  three_g  touch_screen  wifi  \n",
       "0            2        0             1     0  \n",
       "1            7        1             0     0  \n",
       "2           10        0             1     1  \n",
       "3            7        1             1     0  \n",
       "4            7        1             0     1  \n",
       "..         ...      ...           ...   ...  \n",
       "995         15        1             1     0  \n",
       "996         19        0             1     1  \n",
       "997         14        1             0     0  \n",
       "998          6        0             1     0  \n",
       "999          3        1             0     1  \n",
       "\n",
       "[1000 rows x 21 columns]"
      ]
     },
     "execution_count": 3,
     "metadata": {},
     "output_type": "execute_result"
    }
   ],
   "source": [
    "test_df = pd.read_csv('/kaggle/input/mobile-price-classification/test.csv')\n",
    "\n",
    "test_df"
   ]
  },
  {
   "cell_type": "markdown",
   "id": "8c5ed3e1",
   "metadata": {
    "papermill": {
     "duration": 0.014136,
     "end_time": "2024-02-10T16:10:22.471084",
     "exception": false,
     "start_time": "2024-02-10T16:10:22.456948",
     "status": "completed"
    },
    "tags": []
   },
   "source": [
    "There is no price ranges for the test data (was probably a competition), therefore gonna have to split the train set up to test the models"
   ]
  },
  {
   "cell_type": "markdown",
   "id": "3b6dc6e5",
   "metadata": {
    "papermill": {
     "duration": 0.013371,
     "end_time": "2024-02-10T16:10:22.498298",
     "exception": false,
     "start_time": "2024-02-10T16:10:22.484927",
     "status": "completed"
    },
    "tags": []
   },
   "source": [
    "Going to start by looking at the summary stats of the variables"
   ]
  },
  {
   "cell_type": "markdown",
   "id": "f68216ab",
   "metadata": {
    "papermill": {
     "duration": 0.01343,
     "end_time": "2024-02-10T16:10:22.525287",
     "exception": false,
     "start_time": "2024-02-10T16:10:22.511857",
     "status": "completed"
    },
    "tags": []
   },
   "source": [
    "## Inspect the code"
   ]
  },
  {
   "cell_type": "code",
   "execution_count": 4,
   "id": "a9ee18df",
   "metadata": {
    "execution": {
     "iopub.execute_input": "2024-02-10T16:10:22.553758Z",
     "iopub.status.busy": "2024-02-10T16:10:22.553468Z",
     "iopub.status.idle": "2024-02-10T16:10:22.614261Z",
     "shell.execute_reply": "2024-02-10T16:10:22.613359Z"
    },
    "papermill": {
     "duration": 0.077336,
     "end_time": "2024-02-10T16:10:22.616376",
     "exception": false,
     "start_time": "2024-02-10T16:10:22.539040",
     "status": "completed"
    },
    "tags": []
   },
   "outputs": [
    {
     "data": {
      "text/html": [
       "<div>\n",
       "<style scoped>\n",
       "    .dataframe tbody tr th:only-of-type {\n",
       "        vertical-align: middle;\n",
       "    }\n",
       "\n",
       "    .dataframe tbody tr th {\n",
       "        vertical-align: top;\n",
       "    }\n",
       "\n",
       "    .dataframe thead th {\n",
       "        text-align: right;\n",
       "    }\n",
       "</style>\n",
       "<table border=\"1\" class=\"dataframe\">\n",
       "  <thead>\n",
       "    <tr style=\"text-align: right;\">\n",
       "      <th></th>\n",
       "      <th>battery_power</th>\n",
       "      <th>blue</th>\n",
       "      <th>clock_speed</th>\n",
       "      <th>dual_sim</th>\n",
       "      <th>fc</th>\n",
       "      <th>four_g</th>\n",
       "      <th>int_memory</th>\n",
       "      <th>m_dep</th>\n",
       "      <th>mobile_wt</th>\n",
       "      <th>n_cores</th>\n",
       "      <th>...</th>\n",
       "      <th>px_height</th>\n",
       "      <th>px_width</th>\n",
       "      <th>ram</th>\n",
       "      <th>sc_h</th>\n",
       "      <th>sc_w</th>\n",
       "      <th>talk_time</th>\n",
       "      <th>three_g</th>\n",
       "      <th>touch_screen</th>\n",
       "      <th>wifi</th>\n",
       "      <th>price_range</th>\n",
       "    </tr>\n",
       "  </thead>\n",
       "  <tbody>\n",
       "    <tr>\n",
       "      <th>count</th>\n",
       "      <td>2000.000000</td>\n",
       "      <td>2000.000000</td>\n",
       "      <td>2000.000000</td>\n",
       "      <td>2000.000000</td>\n",
       "      <td>2000.000000</td>\n",
       "      <td>2000.000000</td>\n",
       "      <td>2000.000000</td>\n",
       "      <td>2000.000000</td>\n",
       "      <td>2000.000000</td>\n",
       "      <td>2000.000000</td>\n",
       "      <td>...</td>\n",
       "      <td>2000.000000</td>\n",
       "      <td>2000.000000</td>\n",
       "      <td>2000.000000</td>\n",
       "      <td>2000.000000</td>\n",
       "      <td>2000.000000</td>\n",
       "      <td>2000.000000</td>\n",
       "      <td>2000.000000</td>\n",
       "      <td>2000.000000</td>\n",
       "      <td>2000.000000</td>\n",
       "      <td>2000.000000</td>\n",
       "    </tr>\n",
       "    <tr>\n",
       "      <th>mean</th>\n",
       "      <td>1238.518500</td>\n",
       "      <td>0.495000</td>\n",
       "      <td>1.522250</td>\n",
       "      <td>0.509500</td>\n",
       "      <td>4.309500</td>\n",
       "      <td>0.521500</td>\n",
       "      <td>32.046500</td>\n",
       "      <td>0.501750</td>\n",
       "      <td>140.249000</td>\n",
       "      <td>4.520500</td>\n",
       "      <td>...</td>\n",
       "      <td>645.108000</td>\n",
       "      <td>1251.515500</td>\n",
       "      <td>2124.213000</td>\n",
       "      <td>12.306500</td>\n",
       "      <td>5.767000</td>\n",
       "      <td>11.011000</td>\n",
       "      <td>0.761500</td>\n",
       "      <td>0.503000</td>\n",
       "      <td>0.507000</td>\n",
       "      <td>1.500000</td>\n",
       "    </tr>\n",
       "    <tr>\n",
       "      <th>std</th>\n",
       "      <td>439.418206</td>\n",
       "      <td>0.500100</td>\n",
       "      <td>0.816004</td>\n",
       "      <td>0.500035</td>\n",
       "      <td>4.341444</td>\n",
       "      <td>0.499662</td>\n",
       "      <td>18.145715</td>\n",
       "      <td>0.288416</td>\n",
       "      <td>35.399655</td>\n",
       "      <td>2.287837</td>\n",
       "      <td>...</td>\n",
       "      <td>443.780811</td>\n",
       "      <td>432.199447</td>\n",
       "      <td>1084.732044</td>\n",
       "      <td>4.213245</td>\n",
       "      <td>4.356398</td>\n",
       "      <td>5.463955</td>\n",
       "      <td>0.426273</td>\n",
       "      <td>0.500116</td>\n",
       "      <td>0.500076</td>\n",
       "      <td>1.118314</td>\n",
       "    </tr>\n",
       "    <tr>\n",
       "      <th>min</th>\n",
       "      <td>501.000000</td>\n",
       "      <td>0.000000</td>\n",
       "      <td>0.500000</td>\n",
       "      <td>0.000000</td>\n",
       "      <td>0.000000</td>\n",
       "      <td>0.000000</td>\n",
       "      <td>2.000000</td>\n",
       "      <td>0.100000</td>\n",
       "      <td>80.000000</td>\n",
       "      <td>1.000000</td>\n",
       "      <td>...</td>\n",
       "      <td>0.000000</td>\n",
       "      <td>500.000000</td>\n",
       "      <td>256.000000</td>\n",
       "      <td>5.000000</td>\n",
       "      <td>0.000000</td>\n",
       "      <td>2.000000</td>\n",
       "      <td>0.000000</td>\n",
       "      <td>0.000000</td>\n",
       "      <td>0.000000</td>\n",
       "      <td>0.000000</td>\n",
       "    </tr>\n",
       "    <tr>\n",
       "      <th>25%</th>\n",
       "      <td>851.750000</td>\n",
       "      <td>0.000000</td>\n",
       "      <td>0.700000</td>\n",
       "      <td>0.000000</td>\n",
       "      <td>1.000000</td>\n",
       "      <td>0.000000</td>\n",
       "      <td>16.000000</td>\n",
       "      <td>0.200000</td>\n",
       "      <td>109.000000</td>\n",
       "      <td>3.000000</td>\n",
       "      <td>...</td>\n",
       "      <td>282.750000</td>\n",
       "      <td>874.750000</td>\n",
       "      <td>1207.500000</td>\n",
       "      <td>9.000000</td>\n",
       "      <td>2.000000</td>\n",
       "      <td>6.000000</td>\n",
       "      <td>1.000000</td>\n",
       "      <td>0.000000</td>\n",
       "      <td>0.000000</td>\n",
       "      <td>0.750000</td>\n",
       "    </tr>\n",
       "    <tr>\n",
       "      <th>50%</th>\n",
       "      <td>1226.000000</td>\n",
       "      <td>0.000000</td>\n",
       "      <td>1.500000</td>\n",
       "      <td>1.000000</td>\n",
       "      <td>3.000000</td>\n",
       "      <td>1.000000</td>\n",
       "      <td>32.000000</td>\n",
       "      <td>0.500000</td>\n",
       "      <td>141.000000</td>\n",
       "      <td>4.000000</td>\n",
       "      <td>...</td>\n",
       "      <td>564.000000</td>\n",
       "      <td>1247.000000</td>\n",
       "      <td>2146.500000</td>\n",
       "      <td>12.000000</td>\n",
       "      <td>5.000000</td>\n",
       "      <td>11.000000</td>\n",
       "      <td>1.000000</td>\n",
       "      <td>1.000000</td>\n",
       "      <td>1.000000</td>\n",
       "      <td>1.500000</td>\n",
       "    </tr>\n",
       "    <tr>\n",
       "      <th>75%</th>\n",
       "      <td>1615.250000</td>\n",
       "      <td>1.000000</td>\n",
       "      <td>2.200000</td>\n",
       "      <td>1.000000</td>\n",
       "      <td>7.000000</td>\n",
       "      <td>1.000000</td>\n",
       "      <td>48.000000</td>\n",
       "      <td>0.800000</td>\n",
       "      <td>170.000000</td>\n",
       "      <td>7.000000</td>\n",
       "      <td>...</td>\n",
       "      <td>947.250000</td>\n",
       "      <td>1633.000000</td>\n",
       "      <td>3064.500000</td>\n",
       "      <td>16.000000</td>\n",
       "      <td>9.000000</td>\n",
       "      <td>16.000000</td>\n",
       "      <td>1.000000</td>\n",
       "      <td>1.000000</td>\n",
       "      <td>1.000000</td>\n",
       "      <td>2.250000</td>\n",
       "    </tr>\n",
       "    <tr>\n",
       "      <th>max</th>\n",
       "      <td>1998.000000</td>\n",
       "      <td>1.000000</td>\n",
       "      <td>3.000000</td>\n",
       "      <td>1.000000</td>\n",
       "      <td>19.000000</td>\n",
       "      <td>1.000000</td>\n",
       "      <td>64.000000</td>\n",
       "      <td>1.000000</td>\n",
       "      <td>200.000000</td>\n",
       "      <td>8.000000</td>\n",
       "      <td>...</td>\n",
       "      <td>1960.000000</td>\n",
       "      <td>1998.000000</td>\n",
       "      <td>3998.000000</td>\n",
       "      <td>19.000000</td>\n",
       "      <td>18.000000</td>\n",
       "      <td>20.000000</td>\n",
       "      <td>1.000000</td>\n",
       "      <td>1.000000</td>\n",
       "      <td>1.000000</td>\n",
       "      <td>3.000000</td>\n",
       "    </tr>\n",
       "  </tbody>\n",
       "</table>\n",
       "<p>8 rows × 21 columns</p>\n",
       "</div>"
      ],
      "text/plain": [
       "      battery_power         blue  clock_speed     dual_sim           fc  \\\n",
       "count   2000.000000  2000.000000  2000.000000  2000.000000  2000.000000   \n",
       "mean    1238.518500     0.495000     1.522250     0.509500     4.309500   \n",
       "std      439.418206     0.500100     0.816004     0.500035     4.341444   \n",
       "min      501.000000     0.000000     0.500000     0.000000     0.000000   \n",
       "25%      851.750000     0.000000     0.700000     0.000000     1.000000   \n",
       "50%     1226.000000     0.000000     1.500000     1.000000     3.000000   \n",
       "75%     1615.250000     1.000000     2.200000     1.000000     7.000000   \n",
       "max     1998.000000     1.000000     3.000000     1.000000    19.000000   \n",
       "\n",
       "            four_g   int_memory        m_dep    mobile_wt      n_cores  ...  \\\n",
       "count  2000.000000  2000.000000  2000.000000  2000.000000  2000.000000  ...   \n",
       "mean      0.521500    32.046500     0.501750   140.249000     4.520500  ...   \n",
       "std       0.499662    18.145715     0.288416    35.399655     2.287837  ...   \n",
       "min       0.000000     2.000000     0.100000    80.000000     1.000000  ...   \n",
       "25%       0.000000    16.000000     0.200000   109.000000     3.000000  ...   \n",
       "50%       1.000000    32.000000     0.500000   141.000000     4.000000  ...   \n",
       "75%       1.000000    48.000000     0.800000   170.000000     7.000000  ...   \n",
       "max       1.000000    64.000000     1.000000   200.000000     8.000000  ...   \n",
       "\n",
       "         px_height     px_width          ram         sc_h         sc_w  \\\n",
       "count  2000.000000  2000.000000  2000.000000  2000.000000  2000.000000   \n",
       "mean    645.108000  1251.515500  2124.213000    12.306500     5.767000   \n",
       "std     443.780811   432.199447  1084.732044     4.213245     4.356398   \n",
       "min       0.000000   500.000000   256.000000     5.000000     0.000000   \n",
       "25%     282.750000   874.750000  1207.500000     9.000000     2.000000   \n",
       "50%     564.000000  1247.000000  2146.500000    12.000000     5.000000   \n",
       "75%     947.250000  1633.000000  3064.500000    16.000000     9.000000   \n",
       "max    1960.000000  1998.000000  3998.000000    19.000000    18.000000   \n",
       "\n",
       "         talk_time      three_g touch_screen         wifi  price_range  \n",
       "count  2000.000000  2000.000000  2000.000000  2000.000000  2000.000000  \n",
       "mean     11.011000     0.761500     0.503000     0.507000     1.500000  \n",
       "std       5.463955     0.426273     0.500116     0.500076     1.118314  \n",
       "min       2.000000     0.000000     0.000000     0.000000     0.000000  \n",
       "25%       6.000000     1.000000     0.000000     0.000000     0.750000  \n",
       "50%      11.000000     1.000000     1.000000     1.000000     1.500000  \n",
       "75%      16.000000     1.000000     1.000000     1.000000     2.250000  \n",
       "max      20.000000     1.000000     1.000000     1.000000     3.000000  \n",
       "\n",
       "[8 rows x 21 columns]"
      ]
     },
     "execution_count": 4,
     "metadata": {},
     "output_type": "execute_result"
    }
   ],
   "source": [
    "df.describe().apply(lambda s: s.apply(lambda x: format(x, 'f')))"
   ]
  },
  {
   "cell_type": "markdown",
   "id": "6e877e5e",
   "metadata": {
    "papermill": {
     "duration": 0.013758,
     "end_time": "2024-02-10T16:10:22.644357",
     "exception": false,
     "start_time": "2024-02-10T16:10:22.630599",
     "status": "completed"
    },
    "tags": []
   },
   "source": [
    "## Clean the data"
   ]
  },
  {
   "cell_type": "markdown",
   "id": "bc4502e0",
   "metadata": {
    "papermill": {
     "duration": 0.013921,
     "end_time": "2024-02-10T16:10:22.672285",
     "exception": false,
     "start_time": "2024-02-10T16:10:22.658364",
     "status": "completed"
    },
    "tags": []
   },
   "source": [
    "### Missing values"
   ]
  },
  {
   "cell_type": "code",
   "execution_count": 5,
   "id": "20758826",
   "metadata": {
    "execution": {
     "iopub.execute_input": "2024-02-10T16:10:22.701286Z",
     "iopub.status.busy": "2024-02-10T16:10:22.701014Z",
     "iopub.status.idle": "2024-02-10T16:10:22.708156Z",
     "shell.execute_reply": "2024-02-10T16:10:22.707238Z"
    },
    "papermill": {
     "duration": 0.023827,
     "end_time": "2024-02-10T16:10:22.710120",
     "exception": false,
     "start_time": "2024-02-10T16:10:22.686293",
     "status": "completed"
    },
    "tags": []
   },
   "outputs": [
    {
     "data": {
      "text/plain": [
       "battery_power    0\n",
       "blue             0\n",
       "clock_speed      0\n",
       "dual_sim         0\n",
       "fc               0\n",
       "four_g           0\n",
       "int_memory       0\n",
       "m_dep            0\n",
       "mobile_wt        0\n",
       "n_cores          0\n",
       "pc               0\n",
       "px_height        0\n",
       "px_width         0\n",
       "ram              0\n",
       "sc_h             0\n",
       "sc_w             0\n",
       "talk_time        0\n",
       "three_g          0\n",
       "touch_screen     0\n",
       "wifi             0\n",
       "price_range      0\n",
       "dtype: int64"
      ]
     },
     "execution_count": 5,
     "metadata": {},
     "output_type": "execute_result"
    }
   ],
   "source": [
    "df.isna().sum()"
   ]
  },
  {
   "cell_type": "markdown",
   "id": "9cd1daf2",
   "metadata": {
    "papermill": {
     "duration": 0.01453,
     "end_time": "2024-02-10T16:10:22.739630",
     "exception": false,
     "start_time": "2024-02-10T16:10:22.725100",
     "status": "completed"
    },
    "tags": []
   },
   "source": [
    "No NA values so no ned to worry there"
   ]
  },
  {
   "cell_type": "code",
   "execution_count": 6,
   "id": "46e12f8e",
   "metadata": {
    "execution": {
     "iopub.execute_input": "2024-02-10T16:10:22.770146Z",
     "iopub.status.busy": "2024-02-10T16:10:22.769589Z",
     "iopub.status.idle": "2024-02-10T16:10:24.037478Z",
     "shell.execute_reply": "2024-02-10T16:10:24.036348Z"
    },
    "papermill": {
     "duration": 1.285876,
     "end_time": "2024-02-10T16:10:24.040011",
     "exception": false,
     "start_time": "2024-02-10T16:10:22.754135",
     "status": "completed"
    },
    "tags": []
   },
   "outputs": [],
   "source": [
    "from sklearn.model_selection import train_test_split\n",
    "\n",
    "y = df['price_range']\n",
    "X = df.drop('price_range', axis=1)\n",
    "\n",
    "X_train, X_test, y_train, y_test = train_test_split(X, y, test_size = 0.2)\n"
   ]
  },
  {
   "cell_type": "markdown",
   "id": "a0fb08c3",
   "metadata": {
    "papermill": {
     "duration": 0.014443,
     "end_time": "2024-02-10T16:10:24.069299",
     "exception": false,
     "start_time": "2024-02-10T16:10:24.054856",
     "status": "completed"
    },
    "tags": []
   },
   "source": []
  },
  {
   "cell_type": "code",
   "execution_count": 7,
   "id": "c846c92a",
   "metadata": {
    "execution": {
     "iopub.execute_input": "2024-02-10T16:10:24.100971Z",
     "iopub.status.busy": "2024-02-10T16:10:24.100150Z",
     "iopub.status.idle": "2024-02-10T16:10:24.120562Z",
     "shell.execute_reply": "2024-02-10T16:10:24.119677Z"
    },
    "papermill": {
     "duration": 0.037582,
     "end_time": "2024-02-10T16:10:24.122558",
     "exception": false,
     "start_time": "2024-02-10T16:10:24.084976",
     "status": "completed"
    },
    "tags": []
   },
   "outputs": [
    {
     "data": {
      "text/html": [
       "<div>\n",
       "<style scoped>\n",
       "    .dataframe tbody tr th:only-of-type {\n",
       "        vertical-align: middle;\n",
       "    }\n",
       "\n",
       "    .dataframe tbody tr th {\n",
       "        vertical-align: top;\n",
       "    }\n",
       "\n",
       "    .dataframe thead th {\n",
       "        text-align: right;\n",
       "    }\n",
       "</style>\n",
       "<table border=\"1\" class=\"dataframe\">\n",
       "  <thead>\n",
       "    <tr style=\"text-align: right;\">\n",
       "      <th></th>\n",
       "      <th>battery_power</th>\n",
       "      <th>blue</th>\n",
       "      <th>clock_speed</th>\n",
       "      <th>dual_sim</th>\n",
       "      <th>fc</th>\n",
       "      <th>four_g</th>\n",
       "      <th>int_memory</th>\n",
       "      <th>m_dep</th>\n",
       "      <th>mobile_wt</th>\n",
       "      <th>n_cores</th>\n",
       "      <th>pc</th>\n",
       "      <th>px_height</th>\n",
       "      <th>px_width</th>\n",
       "      <th>ram</th>\n",
       "      <th>sc_h</th>\n",
       "      <th>sc_w</th>\n",
       "      <th>talk_time</th>\n",
       "      <th>three_g</th>\n",
       "      <th>touch_screen</th>\n",
       "      <th>wifi</th>\n",
       "    </tr>\n",
       "  </thead>\n",
       "  <tbody>\n",
       "    <tr>\n",
       "      <th>819</th>\n",
       "      <td>1236</td>\n",
       "      <td>0</td>\n",
       "      <td>0.9</td>\n",
       "      <td>1</td>\n",
       "      <td>2</td>\n",
       "      <td>1</td>\n",
       "      <td>57</td>\n",
       "      <td>0.1</td>\n",
       "      <td>188</td>\n",
       "      <td>1</td>\n",
       "      <td>14</td>\n",
       "      <td>517</td>\n",
       "      <td>809</td>\n",
       "      <td>1406</td>\n",
       "      <td>14</td>\n",
       "      <td>12</td>\n",
       "      <td>20</td>\n",
       "      <td>1</td>\n",
       "      <td>0</td>\n",
       "      <td>1</td>\n",
       "    </tr>\n",
       "    <tr>\n",
       "      <th>358</th>\n",
       "      <td>1394</td>\n",
       "      <td>1</td>\n",
       "      <td>0.9</td>\n",
       "      <td>1</td>\n",
       "      <td>10</td>\n",
       "      <td>1</td>\n",
       "      <td>62</td>\n",
       "      <td>0.3</td>\n",
       "      <td>175</td>\n",
       "      <td>5</td>\n",
       "      <td>13</td>\n",
       "      <td>1010</td>\n",
       "      <td>1565</td>\n",
       "      <td>473</td>\n",
       "      <td>11</td>\n",
       "      <td>1</td>\n",
       "      <td>20</td>\n",
       "      <td>1</td>\n",
       "      <td>1</td>\n",
       "      <td>0</td>\n",
       "    </tr>\n",
       "    <tr>\n",
       "      <th>683</th>\n",
       "      <td>1713</td>\n",
       "      <td>0</td>\n",
       "      <td>2.5</td>\n",
       "      <td>1</td>\n",
       "      <td>1</td>\n",
       "      <td>0</td>\n",
       "      <td>27</td>\n",
       "      <td>0.9</td>\n",
       "      <td>127</td>\n",
       "      <td>7</td>\n",
       "      <td>3</td>\n",
       "      <td>729</td>\n",
       "      <td>974</td>\n",
       "      <td>2406</td>\n",
       "      <td>13</td>\n",
       "      <td>10</td>\n",
       "      <td>20</td>\n",
       "      <td>1</td>\n",
       "      <td>0</td>\n",
       "      <td>1</td>\n",
       "    </tr>\n",
       "    <tr>\n",
       "      <th>1039</th>\n",
       "      <td>504</td>\n",
       "      <td>1</td>\n",
       "      <td>0.5</td>\n",
       "      <td>1</td>\n",
       "      <td>2</td>\n",
       "      <td>1</td>\n",
       "      <td>46</td>\n",
       "      <td>0.9</td>\n",
       "      <td>172</td>\n",
       "      <td>5</td>\n",
       "      <td>14</td>\n",
       "      <td>280</td>\n",
       "      <td>1795</td>\n",
       "      <td>2085</td>\n",
       "      <td>13</td>\n",
       "      <td>5</td>\n",
       "      <td>8</td>\n",
       "      <td>1</td>\n",
       "      <td>0</td>\n",
       "      <td>0</td>\n",
       "    </tr>\n",
       "    <tr>\n",
       "      <th>1151</th>\n",
       "      <td>696</td>\n",
       "      <td>1</td>\n",
       "      <td>2.4</td>\n",
       "      <td>0</td>\n",
       "      <td>11</td>\n",
       "      <td>1</td>\n",
       "      <td>35</td>\n",
       "      <td>0.2</td>\n",
       "      <td>103</td>\n",
       "      <td>3</td>\n",
       "      <td>13</td>\n",
       "      <td>533</td>\n",
       "      <td>797</td>\n",
       "      <td>2022</td>\n",
       "      <td>14</td>\n",
       "      <td>11</td>\n",
       "      <td>4</td>\n",
       "      <td>1</td>\n",
       "      <td>0</td>\n",
       "      <td>1</td>\n",
       "    </tr>\n",
       "    <tr>\n",
       "      <th>...</th>\n",
       "      <td>...</td>\n",
       "      <td>...</td>\n",
       "      <td>...</td>\n",
       "      <td>...</td>\n",
       "      <td>...</td>\n",
       "      <td>...</td>\n",
       "      <td>...</td>\n",
       "      <td>...</td>\n",
       "      <td>...</td>\n",
       "      <td>...</td>\n",
       "      <td>...</td>\n",
       "      <td>...</td>\n",
       "      <td>...</td>\n",
       "      <td>...</td>\n",
       "      <td>...</td>\n",
       "      <td>...</td>\n",
       "      <td>...</td>\n",
       "      <td>...</td>\n",
       "      <td>...</td>\n",
       "      <td>...</td>\n",
       "    </tr>\n",
       "    <tr>\n",
       "      <th>1527</th>\n",
       "      <td>1837</td>\n",
       "      <td>0</td>\n",
       "      <td>1.0</td>\n",
       "      <td>1</td>\n",
       "      <td>5</td>\n",
       "      <td>1</td>\n",
       "      <td>12</td>\n",
       "      <td>0.9</td>\n",
       "      <td>103</td>\n",
       "      <td>8</td>\n",
       "      <td>6</td>\n",
       "      <td>1420</td>\n",
       "      <td>1539</td>\n",
       "      <td>2294</td>\n",
       "      <td>8</td>\n",
       "      <td>7</td>\n",
       "      <td>20</td>\n",
       "      <td>1</td>\n",
       "      <td>0</td>\n",
       "      <td>1</td>\n",
       "    </tr>\n",
       "    <tr>\n",
       "      <th>1535</th>\n",
       "      <td>600</td>\n",
       "      <td>1</td>\n",
       "      <td>1.8</td>\n",
       "      <td>0</td>\n",
       "      <td>9</td>\n",
       "      <td>1</td>\n",
       "      <td>6</td>\n",
       "      <td>0.8</td>\n",
       "      <td>199</td>\n",
       "      <td>2</td>\n",
       "      <td>15</td>\n",
       "      <td>486</td>\n",
       "      <td>1032</td>\n",
       "      <td>3495</td>\n",
       "      <td>17</td>\n",
       "      <td>4</td>\n",
       "      <td>7</td>\n",
       "      <td>1</td>\n",
       "      <td>1</td>\n",
       "      <td>0</td>\n",
       "    </tr>\n",
       "    <tr>\n",
       "      <th>202</th>\n",
       "      <td>1087</td>\n",
       "      <td>0</td>\n",
       "      <td>1.3</td>\n",
       "      <td>0</td>\n",
       "      <td>0</td>\n",
       "      <td>1</td>\n",
       "      <td>16</td>\n",
       "      <td>0.3</td>\n",
       "      <td>166</td>\n",
       "      <td>3</td>\n",
       "      <td>9</td>\n",
       "      <td>295</td>\n",
       "      <td>589</td>\n",
       "      <td>690</td>\n",
       "      <td>14</td>\n",
       "      <td>6</td>\n",
       "      <td>6</td>\n",
       "      <td>1</td>\n",
       "      <td>0</td>\n",
       "      <td>1</td>\n",
       "    </tr>\n",
       "    <tr>\n",
       "      <th>1322</th>\n",
       "      <td>808</td>\n",
       "      <td>0</td>\n",
       "      <td>1.9</td>\n",
       "      <td>0</td>\n",
       "      <td>7</td>\n",
       "      <td>0</td>\n",
       "      <td>20</td>\n",
       "      <td>0.8</td>\n",
       "      <td>185</td>\n",
       "      <td>6</td>\n",
       "      <td>14</td>\n",
       "      <td>496</td>\n",
       "      <td>974</td>\n",
       "      <td>1471</td>\n",
       "      <td>13</td>\n",
       "      <td>4</td>\n",
       "      <td>11</td>\n",
       "      <td>0</td>\n",
       "      <td>1</td>\n",
       "      <td>0</td>\n",
       "    </tr>\n",
       "    <tr>\n",
       "      <th>494</th>\n",
       "      <td>1225</td>\n",
       "      <td>1</td>\n",
       "      <td>2.4</td>\n",
       "      <td>0</td>\n",
       "      <td>0</td>\n",
       "      <td>0</td>\n",
       "      <td>15</td>\n",
       "      <td>0.1</td>\n",
       "      <td>155</td>\n",
       "      <td>5</td>\n",
       "      <td>0</td>\n",
       "      <td>840</td>\n",
       "      <td>982</td>\n",
       "      <td>1970</td>\n",
       "      <td>16</td>\n",
       "      <td>8</td>\n",
       "      <td>15</td>\n",
       "      <td>1</td>\n",
       "      <td>1</td>\n",
       "      <td>0</td>\n",
       "    </tr>\n",
       "  </tbody>\n",
       "</table>\n",
       "<p>1600 rows × 20 columns</p>\n",
       "</div>"
      ],
      "text/plain": [
       "      battery_power  blue  clock_speed  dual_sim  fc  four_g  int_memory  \\\n",
       "819            1236     0          0.9         1   2       1          57   \n",
       "358            1394     1          0.9         1  10       1          62   \n",
       "683            1713     0          2.5         1   1       0          27   \n",
       "1039            504     1          0.5         1   2       1          46   \n",
       "1151            696     1          2.4         0  11       1          35   \n",
       "...             ...   ...          ...       ...  ..     ...         ...   \n",
       "1527           1837     0          1.0         1   5       1          12   \n",
       "1535            600     1          1.8         0   9       1           6   \n",
       "202            1087     0          1.3         0   0       1          16   \n",
       "1322            808     0          1.9         0   7       0          20   \n",
       "494            1225     1          2.4         0   0       0          15   \n",
       "\n",
       "      m_dep  mobile_wt  n_cores  pc  px_height  px_width   ram  sc_h  sc_w  \\\n",
       "819     0.1        188        1  14        517       809  1406    14    12   \n",
       "358     0.3        175        5  13       1010      1565   473    11     1   \n",
       "683     0.9        127        7   3        729       974  2406    13    10   \n",
       "1039    0.9        172        5  14        280      1795  2085    13     5   \n",
       "1151    0.2        103        3  13        533       797  2022    14    11   \n",
       "...     ...        ...      ...  ..        ...       ...   ...   ...   ...   \n",
       "1527    0.9        103        8   6       1420      1539  2294     8     7   \n",
       "1535    0.8        199        2  15        486      1032  3495    17     4   \n",
       "202     0.3        166        3   9        295       589   690    14     6   \n",
       "1322    0.8        185        6  14        496       974  1471    13     4   \n",
       "494     0.1        155        5   0        840       982  1970    16     8   \n",
       "\n",
       "      talk_time  three_g  touch_screen  wifi  \n",
       "819          20        1             0     1  \n",
       "358          20        1             1     0  \n",
       "683          20        1             0     1  \n",
       "1039          8        1             0     0  \n",
       "1151          4        1             0     1  \n",
       "...         ...      ...           ...   ...  \n",
       "1527         20        1             0     1  \n",
       "1535          7        1             1     0  \n",
       "202           6        1             0     1  \n",
       "1322         11        0             1     0  \n",
       "494          15        1             1     0  \n",
       "\n",
       "[1600 rows x 20 columns]"
      ]
     },
     "execution_count": 7,
     "metadata": {},
     "output_type": "execute_result"
    }
   ],
   "source": [
    "X_train"
   ]
  },
  {
   "cell_type": "markdown",
   "id": "fa914d0f",
   "metadata": {
    "papermill": {
     "duration": 0.014673,
     "end_time": "2024-02-10T16:10:24.151848",
     "exception": false,
     "start_time": "2024-02-10T16:10:24.137175",
     "status": "completed"
    },
    "tags": []
   },
   "source": [
    "## Distributions of variables"
   ]
  },
  {
   "cell_type": "code",
   "execution_count": 8,
   "id": "10fe26e9",
   "metadata": {
    "execution": {
     "iopub.execute_input": "2024-02-10T16:10:24.182049Z",
     "iopub.status.busy": "2024-02-10T16:10:24.181768Z",
     "iopub.status.idle": "2024-02-10T16:10:24.187742Z",
     "shell.execute_reply": "2024-02-10T16:10:24.186892Z"
    },
    "papermill": {
     "duration": 0.023299,
     "end_time": "2024-02-10T16:10:24.189586",
     "exception": false,
     "start_time": "2024-02-10T16:10:24.166287",
     "status": "completed"
    },
    "tags": []
   },
   "outputs": [
    {
     "data": {
      "text/plain": [
       "\"import matplotlib.pyplot as plt\\nimport seaborn as sns\\n\\nquarter = len(df.columns) // 4 # A quarter of the amount of rows to determine the positions and number of columns\\n\\nfig, axes = plt.subplots(nrows=4, ncols=quarter, figsize=(24, 30))\\n\\nfor i, col in enumerate(df.columns):\\n    sns.histplot(df[col], kde=True, ax=axes[i // quarter, i % quarter])\\n    axes[i // quarter, i % quarter].set_title(f'Distribution of {col}')\""
      ]
     },
     "execution_count": 8,
     "metadata": {},
     "output_type": "execute_result"
    }
   ],
   "source": [
    "\"\"\"import matplotlib.pyplot as plt\n",
    "import seaborn as sns\n",
    "\n",
    "quarter = len(df.columns) // 4 # A quarter of the amount of rows to determine the positions and number of columns\n",
    "\n",
    "fig, axes = plt.subplots(nrows=4, ncols=quarter, figsize=(24, 30))\n",
    "\n",
    "for i, col in enumerate(df.columns):\n",
    "    sns.histplot(df[col], kde=True, ax=axes[i // quarter, i % quarter])\n",
    "    axes[i // quarter, i % quarter].set_title(f'Distribution of {col}')\"\"\""
   ]
  },
  {
   "cell_type": "markdown",
   "id": "42b10db2",
   "metadata": {
    "papermill": {
     "duration": 0.014674,
     "end_time": "2024-02-10T16:10:24.219172",
     "exception": false,
     "start_time": "2024-02-10T16:10:24.204498",
     "status": "completed"
    },
    "tags": []
   },
   "source": [
    "Notable categorical variables look like: blue, dual_sim, fc, three_g, touch_screen, wifi,four_g. I will look at the distributions of these now"
   ]
  },
  {
   "cell_type": "code",
   "execution_count": null,
   "id": "16a95de8",
   "metadata": {
    "papermill": {
     "duration": 0.01568,
     "end_time": "2024-02-10T16:10:24.250215",
     "exception": false,
     "start_time": "2024-02-10T16:10:24.234535",
     "status": "completed"
    },
    "tags": []
   },
   "outputs": [],
   "source": []
  },
  {
   "cell_type": "code",
   "execution_count": 9,
   "id": "d8c4c6e2",
   "metadata": {
    "execution": {
     "iopub.execute_input": "2024-02-10T16:10:24.282490Z",
     "iopub.status.busy": "2024-02-10T16:10:24.282195Z",
     "iopub.status.idle": "2024-02-10T16:10:24.900528Z",
     "shell.execute_reply": "2024-02-10T16:10:24.899584Z"
    },
    "papermill": {
     "duration": 0.636713,
     "end_time": "2024-02-10T16:10:24.902646",
     "exception": false,
     "start_time": "2024-02-10T16:10:24.265933",
     "status": "completed"
    },
    "tags": []
   },
   "outputs": [
    {
     "data": {
      "image/png": "[encoded data removed]",
      "text/plain": [
       "<Figure size 1000x800 with 1 Axes>"
      ]
     },
     "metadata": {},
     "output_type": "display_data"
    }
   ],
   "source": [
    "import matplotlib.pyplot as plt\n",
    "import seaborn as sns\n",
    "\n",
    "plt.figure(figsize=(10,8))\n",
    "plt.scatter(df['ram'] , df['price_range'])\n",
    "plt.title('ram vs price categories')\n",
    "plt.xlabel('ram')\n",
    "plt.ylabel('price')\n",
    "plt.grid()\n",
    "plt.show()\n"
   ]
  },
  {
   "cell_type": "markdown",
   "id": "f0546f93",
   "metadata": {
    "papermill": {
     "duration": 0.053688,
     "end_time": "2024-02-10T16:10:24.971935",
     "exception": false,
     "start_time": "2024-02-10T16:10:24.918247",
     "status": "completed"
    },
    "tags": []
   },
   "source": [
    "### Target variable analysis"
   ]
  },
  {
   "cell_type": "markdown",
   "id": "aa3a9cb9",
   "metadata": {
    "papermill": {
     "duration": 0.015141,
     "end_time": "2024-02-10T16:10:25.002413",
     "exception": false,
     "start_time": "2024-02-10T16:10:24.987272",
     "status": "completed"
    },
    "tags": []
   },
   "source": [
    "#### Countplot"
   ]
  },
  {
   "cell_type": "code",
   "execution_count": 10,
   "id": "debd9f61",
   "metadata": {
    "execution": {
     "iopub.execute_input": "2024-02-10T16:10:25.035304Z",
     "iopub.status.busy": "2024-02-10T16:10:25.034397Z",
     "iopub.status.idle": "2024-02-10T16:10:25.215862Z",
     "shell.execute_reply": "2024-02-10T16:10:25.214127Z"
    },
    "papermill": {
     "duration": 0.200936,
     "end_time": "2024-02-10T16:10:25.218880",
     "exception": false,
     "start_time": "2024-02-10T16:10:25.017944",
     "status": "completed"
    },
    "tags": []
   },
   "outputs": [
    {
     "data": {
      "text/plain": [
       "<Axes: xlabel='price_range', ylabel='count'>"
      ]
     },
     "execution_count": 10,
     "metadata": {},
     "output_type": "execute_result"
    },
    {
     "data": {
      "image/png": "[encoded data removed]",
      "text/plain": [
       "<Figure size 640x480 with 1 Axes>"
      ]
     },
     "metadata": {},
     "output_type": "display_data"
    }
   ],
   "source": [
    "sns.countplot(x=y)"
   ]
  },
  {
   "cell_type": "markdown",
   "id": "0c5b13fa",
   "metadata": {
    "papermill": {
     "duration": 0.023575,
     "end_time": "2024-02-10T16:10:25.268405",
     "exception": false,
     "start_time": "2024-02-10T16:10:25.244830",
     "status": "completed"
    },
    "tags": []
   },
   "source": [
    "So the count is identical across all price ranges, so no need for SMOTE oversampling"
   ]
  },
  {
   "cell_type": "markdown",
   "id": "2a828668",
   "metadata": {
    "papermill": {
     "duration": 0.01574,
     "end_time": "2024-02-10T16:10:25.306871",
     "exception": false,
     "start_time": "2024-02-10T16:10:25.291131",
     "status": "completed"
    },
    "tags": []
   },
   "source": [
    "#### Correlation analysis"
   ]
  },
  {
   "cell_type": "markdown",
   "id": "7a484fcb",
   "metadata": {
    "papermill": {
     "duration": 0.015473,
     "end_time": "2024-02-10T16:10:25.338045",
     "exception": false,
     "start_time": "2024-02-10T16:10:25.322572",
     "status": "completed"
    },
    "tags": []
   },
   "source": [
    "First I will look at the correlation of all of the variables together, and then look at the target variable (price range) in isolation"
   ]
  },
  {
   "cell_type": "code",
   "execution_count": 11,
   "id": "39d23944",
   "metadata": {
    "execution": {
     "iopub.execute_input": "2024-02-10T16:10:25.371632Z",
     "iopub.status.busy": "2024-02-10T16:10:25.370726Z",
     "iopub.status.idle": "2024-02-10T16:10:26.686071Z",
     "shell.execute_reply": "2024-02-10T16:10:26.685078Z"
    },
    "papermill": {
     "duration": 1.335919,
     "end_time": "2024-02-10T16:10:26.689901",
     "exception": false,
     "start_time": "2024-02-10T16:10:25.353982",
     "status": "completed"
    },
    "tags": []
   },
   "outputs": [
    {
     "data": {
      "image/png": "[encoded data removed]",
      "text/plain": [
       "<Figure size 1500x1500 with 2 Axes>"
      ]
     },
     "metadata": {},
     "output_type": "display_data"
    }
   ],
   "source": [
    "plt.figure(figsize=(15, 15))\n",
    "\n",
    "correlation_matrix = df.corr()\n",
    "sns.heatmap(correlation_matrix, annot=True, fmt='.2f')\n",
    "plt.title('Correlation Matrix')\n",
    "plt.show()"
   ]
  },
  {
   "cell_type": "code",
   "execution_count": 12,
   "id": "ae5243e7",
   "metadata": {
    "execution": {
     "iopub.execute_input": "2024-02-10T16:10:26.730555Z",
     "iopub.status.busy": "2024-02-10T16:10:26.730234Z",
     "iopub.status.idle": "2024-02-10T16:10:27.111928Z",
     "shell.execute_reply": "2024-02-10T16:10:27.111035Z"
    },
    "papermill": {
     "duration": 0.404861,
     "end_time": "2024-02-10T16:10:27.114285",
     "exception": false,
     "start_time": "2024-02-10T16:10:26.709424",
     "status": "completed"
    },
    "tags": []
   },
   "outputs": [
    {
     "data": {
      "image/png": "[encoded data removed]",
      "text/plain": [
       "<Figure size 640x480 with 2 Axes>"
      ]
     },
     "metadata": {},
     "output_type": "display_data"
    }
   ],
   "source": [
    "price_corr = correlation_matrix[['price_range']]\n",
    "\n",
    "sns.heatmap(price_corr.sort_values(by=\"price_range\", ascending=False), annot=True, fmt='.2f')\n",
    "plt.title('Correlation Matrix')\n",
    "plt.show()"
   ]
  },
  {
   "cell_type": "markdown",
   "id": "e1910a2a",
   "metadata": {
    "papermill": {
     "duration": 0.019639,
     "end_time": "2024-02-10T16:10:27.154128",
     "exception": false,
     "start_time": "2024-02-10T16:10:27.134489",
     "status": "completed"
    },
    "tags": []
   },
   "source": [
    "So the pixel resolution, battery and ram seem to be the things most significantly correlated with the price range, good to keep in mind..."
   ]
  },
  {
   "cell_type": "code",
   "execution_count": null,
   "id": "ed684798",
   "metadata": {
    "papermill": {
     "duration": 0.019781,
     "end_time": "2024-02-10T16:10:27.193774",
     "exception": false,
     "start_time": "2024-02-10T16:10:27.173993",
     "status": "completed"
    },
    "tags": []
   },
   "outputs": [],
   "source": []
  },
  {
   "cell_type": "markdown",
   "id": "47c8b3d4",
   "metadata": {
    "papermill": {
     "duration": 0.019773,
     "end_time": "2024-02-10T16:10:27.233124",
     "exception": false,
     "start_time": "2024-02-10T16:10:27.213351",
     "status": "completed"
    },
    "tags": []
   },
   "source": []
  },
  {
   "cell_type": "markdown",
   "id": "ffc67df6",
   "metadata": {
    "papermill": {
     "duration": 0.019426,
     "end_time": "2024-02-10T16:10:27.272986",
     "exception": false,
     "start_time": "2024-02-10T16:10:27.253560",
     "status": "completed"
    },
    "tags": []
   },
   "source": []
  },
  {
   "cell_type": "markdown",
   "id": "51d014dc",
   "metadata": {
    "papermill": {
     "duration": 0.019423,
     "end_time": "2024-02-10T16:10:27.313166",
     "exception": false,
     "start_time": "2024-02-10T16:10:27.293743",
     "status": "completed"
    },
    "tags": []
   },
   "source": [
    "# Model building"
   ]
  },
  {
   "cell_type": "markdown",
   "id": "5d6948b1",
   "metadata": {
    "papermill": {
     "duration": 0.019733,
     "end_time": "2024-02-10T16:10:27.352779",
     "exception": false,
     "start_time": "2024-02-10T16:10:27.333046",
     "status": "completed"
    },
    "tags": []
   },
   "source": [
    "## Preprocessing"
   ]
  },
  {
   "cell_type": "markdown",
   "id": "1cc48abd",
   "metadata": {
    "papermill": {
     "duration": 0.01977,
     "end_time": "2024-02-10T16:10:27.392188",
     "exception": false,
     "start_time": "2024-02-10T16:10:27.372418",
     "status": "completed"
    },
    "tags": []
   },
   "source": [
    "### Split the data"
   ]
  },
  {
   "cell_type": "code",
   "execution_count": 13,
   "id": "396664cb",
   "metadata": {
    "execution": {
     "iopub.execute_input": "2024-02-10T16:10:27.433428Z",
     "iopub.status.busy": "2024-02-10T16:10:27.432695Z",
     "iopub.status.idle": "2024-02-10T16:10:27.440564Z",
     "shell.execute_reply": "2024-02-10T16:10:27.439825Z"
    },
    "papermill": {
     "duration": 0.030828,
     "end_time": "2024-02-10T16:10:27.442588",
     "exception": false,
     "start_time": "2024-02-10T16:10:27.411760",
     "status": "completed"
    },
    "tags": []
   },
   "outputs": [],
   "source": [
    "from sklearn.model_selection import train_test_split\n",
    "\n",
    "y = df['price_range']\n",
    "X = df.drop('price_range', axis=1)\n",
    "\n",
    "X_train, X_test, y_train, y_test = train_test_split(X, y, test_size = 0.2, random_state=0)"
   ]
  },
  {
   "cell_type": "markdown",
   "id": "b8872b9d",
   "metadata": {
    "papermill": {
     "duration": 0.01999,
     "end_time": "2024-02-10T16:10:27.483387",
     "exception": false,
     "start_time": "2024-02-10T16:10:27.463397",
     "status": "completed"
    },
    "tags": []
   },
   "source": [
    "### Normalise the data"
   ]
  },
  {
   "cell_type": "code",
   "execution_count": 14,
   "id": "5f90b898",
   "metadata": {
    "execution": {
     "iopub.execute_input": "2024-02-10T16:10:27.523837Z",
     "iopub.status.busy": "2024-02-10T16:10:27.523549Z",
     "iopub.status.idle": "2024-02-10T16:10:27.533997Z",
     "shell.execute_reply": "2024-02-10T16:10:27.533203Z"
    },
    "papermill": {
     "duration": 0.03301,
     "end_time": "2024-02-10T16:10:27.536004",
     "exception": false,
     "start_time": "2024-02-10T16:10:27.502994",
     "status": "completed"
    },
    "tags": []
   },
   "outputs": [],
   "source": [
    "from sklearn.preprocessing import MinMaxScaler\n",
    "\n",
    "scaler = MinMaxScaler()\n",
    "X_train_scaled= scaler.fit_transform(X_train)\n",
    "X_test_scaled = scaler.transform(X_test)\n"
   ]
  },
  {
   "cell_type": "markdown",
   "id": "a058a5e2",
   "metadata": {
    "papermill": {
     "duration": 0.019371,
     "end_time": "2024-02-10T16:10:27.576010",
     "exception": false,
     "start_time": "2024-02-10T16:10:27.556639",
     "status": "completed"
    },
    "tags": []
   },
   "source": [
    "## Logistic Regression"
   ]
  },
  {
   "cell_type": "markdown",
   "id": "a96e280c",
   "metadata": {
    "papermill": {
     "duration": 0.019606,
     "end_time": "2024-02-10T16:10:27.615474",
     "exception": false,
     "start_time": "2024-02-10T16:10:27.595868",
     "status": "completed"
    },
    "tags": []
   },
   "source": [
    "### Model training"
   ]
  },
  {
   "cell_type": "code",
   "execution_count": 15,
   "id": "2b6228ba",
   "metadata": {
    "execution": {
     "iopub.execute_input": "2024-02-10T16:10:27.660526Z",
     "iopub.status.busy": "2024-02-10T16:10:27.659768Z",
     "iopub.status.idle": "2024-02-10T16:10:27.808926Z",
     "shell.execute_reply": "2024-02-10T16:10:27.807662Z"
    },
    "papermill": {
     "duration": 0.173822,
     "end_time": "2024-02-10T16:10:27.811111",
     "exception": false,
     "start_time": "2024-02-10T16:10:27.637289",
     "status": "completed"
    },
    "tags": []
   },
   "outputs": [
    {
     "name": "stderr",
     "output_type": "stream",
     "text": [
      "/opt/conda/lib/python3.10/site-packages/sklearn/linear_model/_logistic.py:458: ConvergenceWarning: lbfgs failed to converge (status=1):\n",
      "STOP: TOTAL NO. of ITERATIONS REACHED LIMIT.\n",
      "\n",
      "Increase the number of iterations (max_iter) or scale the data as shown in:\n",
      "    https://scikit-learn.org/stable/modules/preprocessing.html\n",
      "Please also refer to the documentation for alternative solver options:\n",
      "    https://scikit-learn.org/stable/modules/linear_model.html#logistic-regression\n",
      "  n_iter_i = _check_optimize_result(\n"
     ]
    },
    {
     "data": {
      "text/plain": [
       "array([3, 0, 2, 1, 3, 0, 0, 3, 3, 1, 1, 3, 0, 2, 3, 0, 3, 2, 2, 1, 0, 0,\n",
       "       3, 1, 1, 2, 3, 1, 3, 1, 1, 0, 1, 0, 2, 3, 0, 0, 3, 3, 3, 1, 3, 3,\n",
       "       1, 3, 0, 1, 3, 1, 1, 3, 0, 3, 0, 3, 2, 2, 0, 3, 3, 1, 3, 2, 1, 2,\n",
       "       3, 2, 2, 2, 3, 2, 1, 0, 1, 3, 2, 2, 2, 1, 3, 3, 3, 0, 0, 0, 2, 1,\n",
       "       2, 3, 1, 2, 2, 0, 0, 3, 3, 3, 0, 3, 1, 1, 2, 1, 3, 2, 3, 3, 2, 3,\n",
       "       3, 0, 0, 1, 3, 3, 0, 0, 1, 0, 0, 3, 2, 2, 1, 2, 1, 1, 0, 2, 1, 3,\n",
       "       3, 3, 3, 3, 3, 2, 0, 1, 1, 2, 1, 3, 0, 3, 0, 0, 2, 0, 1, 1, 1, 1,\n",
       "       3, 0, 0, 3, 1, 3, 2, 1, 3, 1, 2, 3, 3, 2, 1, 0, 3, 2, 2, 3, 3, 0,\n",
       "       2, 2, 3, 1, 2, 1, 0, 1, 2, 2, 2, 0, 2, 3, 1, 1, 0, 2, 2, 0, 1, 2,\n",
       "       2, 0, 3, 3, 3, 1, 2, 3, 3, 3, 0, 0, 0, 2, 3, 3, 0, 0, 1, 3, 2, 3,\n",
       "       3, 3, 0, 0, 2, 3, 3, 1, 0, 2, 0, 0, 0, 3, 2, 1, 2, 2, 1, 1, 0, 2,\n",
       "       3, 3, 0, 0, 1, 3, 3, 1, 3, 0, 3, 1, 1, 0, 2, 3, 3, 2, 0, 0, 1, 2,\n",
       "       3, 2, 2, 3, 2, 1, 0, 3, 3, 2, 1, 3, 2, 2, 2, 1, 0, 2, 2, 1, 0, 0,\n",
       "       2, 2, 2, 3, 0, 1, 2, 0, 1, 2, 3, 0, 2, 0, 1, 1, 3, 0, 0, 2, 3, 1,\n",
       "       2, 0, 1, 0, 3, 0, 3, 3, 2, 3, 1, 2, 2, 1, 1, 2, 0, 1, 0, 3, 1, 0,\n",
       "       3, 0, 0, 1, 3, 0, 3, 2, 2, 0, 1, 3, 0, 2, 1, 1, 2, 1, 2, 0, 2, 0,\n",
       "       0, 3, 1, 2, 3, 2, 3, 0, 3, 2, 2, 1, 3, 2, 3, 3, 3, 0, 2, 0, 3, 0,\n",
       "       1, 1, 2, 3, 1, 3, 1, 1, 0, 1, 2, 3, 0, 0, 1, 3, 0, 3, 0, 2, 2, 1,\n",
       "       1, 0, 2, 0])"
      ]
     },
     "execution_count": 15,
     "metadata": {},
     "output_type": "execute_result"
    }
   ],
   "source": [
    "from sklearn.linear_model import LogisticRegression\n",
    "\n",
    "model = LogisticRegression(random_state=0)\n",
    "model.fit(X_train_scaled, y_train)\n",
    "\n",
    "predictions = model.predict(X_test_scaled)\n",
    "\n",
    "predictions"
   ]
  },
  {
   "cell_type": "markdown",
   "id": "217cb7fb",
   "metadata": {
    "papermill": {
     "duration": 0.019979,
     "end_time": "2024-02-10T16:10:27.851890",
     "exception": false,
     "start_time": "2024-02-10T16:10:27.831911",
     "status": "completed"
    },
    "tags": []
   },
   "source": [
    "### Model evaluation"
   ]
  },
  {
   "cell_type": "markdown",
   "id": "2bd9419b",
   "metadata": {
    "papermill": {
     "duration": 0.019857,
     "end_time": "2024-02-10T16:10:27.891535",
     "exception": false,
     "start_time": "2024-02-10T16:10:27.871678",
     "status": "completed"
    },
    "tags": []
   },
   "source": [
    "#### Accuracy score"
   ]
  },
  {
   "cell_type": "code",
   "execution_count": 16,
   "id": "376921de",
   "metadata": {
    "execution": {
     "iopub.execute_input": "2024-02-10T16:10:27.932505Z",
     "iopub.status.busy": "2024-02-10T16:10:27.932221Z",
     "iopub.status.idle": "2024-02-10T16:10:27.939508Z",
     "shell.execute_reply": "2024-02-10T16:10:27.938661Z"
    },
    "papermill": {
     "duration": 0.030136,
     "end_time": "2024-02-10T16:10:27.941595",
     "exception": false,
     "start_time": "2024-02-10T16:10:27.911459",
     "status": "completed"
    },
    "tags": []
   },
   "outputs": [
    {
     "data": {
      "text/plain": [
       "0.9225"
      ]
     },
     "execution_count": 16,
     "metadata": {},
     "output_type": "execute_result"
    }
   ],
   "source": [
    "from sklearn.metrics import accuracy_score\n",
    "\n",
    "acc = accuracy_score(predictions, y_test)\n",
    "\n",
    "acc"
   ]
  },
  {
   "cell_type": "code",
   "execution_count": 17,
   "id": "636f57e1",
   "metadata": {
    "execution": {
     "iopub.execute_input": "2024-02-10T16:10:27.983573Z",
     "iopub.status.busy": "2024-02-10T16:10:27.983319Z",
     "iopub.status.idle": "2024-02-10T16:10:27.990760Z",
     "shell.execute_reply": "2024-02-10T16:10:27.989892Z"
    },
    "papermill": {
     "duration": 0.03024,
     "end_time": "2024-02-10T16:10:27.992571",
     "exception": false,
     "start_time": "2024-02-10T16:10:27.962331",
     "status": "completed"
    },
    "tags": []
   },
   "outputs": [
    {
     "data": {
      "text/plain": [
       "0.945625"
      ]
     },
     "execution_count": 17,
     "metadata": {},
     "output_type": "execute_result"
    }
   ],
   "source": [
    "train_accuracy = accuracy_score(y_train, model.predict(X_train_scaled))\n",
    "\n",
    "train_accuracy"
   ]
  },
  {
   "cell_type": "markdown",
   "id": "30bb4893",
   "metadata": {
    "papermill": {
     "duration": 0.020116,
     "end_time": "2024-02-10T16:10:28.032953",
     "exception": false,
     "start_time": "2024-02-10T16:10:28.012837",
     "status": "completed"
    },
    "tags": []
   },
   "source": [
    "Accuracy seems high to me, so going to run it with cross validation"
   ]
  },
  {
   "cell_type": "markdown",
   "id": "f50daa7c",
   "metadata": {
    "papermill": {
     "duration": 0.020371,
     "end_time": "2024-02-10T16:10:28.073728",
     "exception": false,
     "start_time": "2024-02-10T16:10:28.053357",
     "status": "completed"
    },
    "tags": []
   },
   "source": [
    "#### Cross-validation"
   ]
  },
  {
   "cell_type": "code",
   "execution_count": 18,
   "id": "65feb0a2",
   "metadata": {
    "execution": {
     "iopub.execute_input": "2024-02-10T16:10:28.117148Z",
     "iopub.status.busy": "2024-02-10T16:10:28.116873Z",
     "iopub.status.idle": "2024-02-10T16:10:28.323590Z",
     "shell.execute_reply": "2024-02-10T16:10:28.322656Z"
    },
    "papermill": {
     "duration": 0.230605,
     "end_time": "2024-02-10T16:10:28.325704",
     "exception": false,
     "start_time": "2024-02-10T16:10:28.095099",
     "status": "completed"
    },
    "tags": []
   },
   "outputs": [
    {
     "name": "stdout",
     "output_type": "stream",
     "text": [
      "Cross-Validation Scores: 0.9075\n"
     ]
    }
   ],
   "source": [
    "from sklearn.model_selection import cross_val_score\n",
    "\n",
    "cv = cross_val_score(model, X_train_scaled, y_train, cv=5)\n",
    "\n",
    "print(f\"Cross-Validation Scores: {np.mean(cv)}\")"
   ]
  },
  {
   "cell_type": "markdown",
   "id": "32b66617",
   "metadata": {
    "papermill": {
     "duration": 0.021409,
     "end_time": "2024-02-10T16:10:28.369467",
     "exception": false,
     "start_time": "2024-02-10T16:10:28.348058",
     "status": "completed"
    },
    "tags": []
   },
   "source": [
    "Still high, even with the cross val..."
   ]
  },
  {
   "cell_type": "markdown",
   "id": "87fa91dc",
   "metadata": {
    "papermill": {
     "duration": 0.020721,
     "end_time": "2024-02-10T16:10:28.411604",
     "exception": false,
     "start_time": "2024-02-10T16:10:28.390883",
     "status": "completed"
    },
    "tags": []
   },
   "source": [
    "#### Confusion matrix"
   ]
  },
  {
   "cell_type": "code",
   "execution_count": 19,
   "id": "28f30bcf",
   "metadata": {
    "execution": {
     "iopub.execute_input": "2024-02-10T16:10:28.453698Z",
     "iopub.status.busy": "2024-02-10T16:10:28.453358Z",
     "iopub.status.idle": "2024-02-10T16:10:28.845980Z",
     "shell.execute_reply": "2024-02-10T16:10:28.845095Z"
    },
    "papermill": {
     "duration": 0.416048,
     "end_time": "2024-02-10T16:10:28.848260",
     "exception": false,
     "start_time": "2024-02-10T16:10:28.432212",
     "status": "completed"
    },
    "tags": []
   },
   "outputs": [
    {
     "data": {
      "image/png": "[encoded data removed]",
      "text/plain": [
       "<Figure size 640x480 with 2 Axes>"
      ]
     },
     "metadata": {},
     "output_type": "display_data"
    }
   ],
   "source": [
    "from sklearn.metrics import confusion_matrix\n",
    "\n",
    "conf_matrix = confusion_matrix(y_test, predictions)\n",
    "\n",
    "plt.imshow(conf_matrix, interpolation='nearest', cmap=plt.cm.Blues)\n",
    "plt.title('Confusion Matrix')\n",
    "plt.colorbar()\n",
    "plt.xlabel('Predicted')\n",
    "plt.ylabel('True')\n",
    "plt.show()"
   ]
  },
  {
   "cell_type": "markdown",
   "id": "32b0dad3",
   "metadata": {
    "papermill": {
     "duration": 0.020626,
     "end_time": "2024-02-10T16:10:28.890169",
     "exception": false,
     "start_time": "2024-02-10T16:10:28.869543",
     "status": "completed"
    },
    "tags": []
   },
   "source": [
    "Not much evidence of overfitting, the accuracy score is suspiciously hight though..."
   ]
  },
  {
   "cell_type": "markdown",
   "id": "269b65eb",
   "metadata": {
    "papermill": {
     "duration": 0.021345,
     "end_time": "2024-02-10T16:10:28.932925",
     "exception": false,
     "start_time": "2024-02-10T16:10:28.911580",
     "status": "completed"
    },
    "tags": []
   },
   "source": [
    "#### Classification report"
   ]
  },
  {
   "cell_type": "code",
   "execution_count": 20,
   "id": "b3598615",
   "metadata": {
    "execution": {
     "iopub.execute_input": "2024-02-10T16:10:28.976683Z",
     "iopub.status.busy": "2024-02-10T16:10:28.976306Z",
     "iopub.status.idle": "2024-02-10T16:10:28.991148Z",
     "shell.execute_reply": "2024-02-10T16:10:28.990202Z"
    },
    "papermill": {
     "duration": 0.038971,
     "end_time": "2024-02-10T16:10:28.993055",
     "exception": false,
     "start_time": "2024-02-10T16:10:28.954084",
     "status": "completed"
    },
    "tags": []
   },
   "outputs": [
    {
     "data": {
      "text/plain": [
       "'              precision    recall  f1-score   support\\n\\n           0       0.97      0.98      0.97        95\\n           1       0.89      0.87      0.88        92\\n           2       0.88      0.86      0.87        99\\n           3       0.95      0.97      0.96       114\\n\\n    accuracy                           0.92       400\\n   macro avg       0.92      0.92      0.92       400\\nweighted avg       0.92      0.92      0.92       400\\n'"
      ]
     },
     "execution_count": 20,
     "metadata": {},
     "output_type": "execute_result"
    }
   ],
   "source": [
    "from sklearn.metrics import classification_report\n",
    "\n",
    "c_rep = classification_report(y_test, predictions)\n",
    "\n",
    "c_rep"
   ]
  },
  {
   "cell_type": "markdown",
   "id": "c21e8381",
   "metadata": {
    "papermill": {
     "duration": 0.020567,
     "end_time": "2024-02-10T16:10:29.034436",
     "exception": false,
     "start_time": "2024-02-10T16:10:29.013869",
     "status": "completed"
    },
    "tags": []
   },
   "source": [
    "## Support Vector Machine (SVM)"
   ]
  },
  {
   "cell_type": "code",
   "execution_count": 21,
   "id": "aade4fe9",
   "metadata": {
    "execution": {
     "iopub.execute_input": "2024-02-10T16:10:29.077340Z",
     "iopub.status.busy": "2024-02-10T16:10:29.076686Z",
     "iopub.status.idle": "2024-02-10T16:10:29.131573Z",
     "shell.execute_reply": "2024-02-10T16:10:29.130652Z"
    },
    "papermill": {
     "duration": 0.078439,
     "end_time": "2024-02-10T16:10:29.133569",
     "exception": false,
     "start_time": "2024-02-10T16:10:29.055130",
     "status": "completed"
    },
    "tags": []
   },
   "outputs": [],
   "source": [
    "from sklearn.svm import SVC\n",
    "\n",
    "svm = SVC(random_state=0)\n",
    "svm.fit(X_train, y_train)\n",
    "preds = svm.predict(X_test)"
   ]
  },
  {
   "cell_type": "code",
   "execution_count": 22,
   "id": "f21aa72f",
   "metadata": {
    "execution": {
     "iopub.execute_input": "2024-02-10T16:10:29.177276Z",
     "iopub.status.busy": "2024-02-10T16:10:29.176996Z",
     "iopub.status.idle": "2024-02-10T16:10:29.184158Z",
     "shell.execute_reply": "2024-02-10T16:10:29.183333Z"
    },
    "papermill": {
     "duration": 0.031767,
     "end_time": "2024-02-10T16:10:29.186131",
     "exception": false,
     "start_time": "2024-02-10T16:10:29.154364",
     "status": "completed"
    },
    "tags": []
   },
   "outputs": [
    {
     "data": {
      "text/plain": [
       "0.955"
      ]
     },
     "execution_count": 22,
     "metadata": {},
     "output_type": "execute_result"
    }
   ],
   "source": [
    "acc = accuracy_score(y_test, preds)\n",
    "\n",
    "acc"
   ]
  },
  {
   "cell_type": "code",
   "execution_count": 23,
   "id": "0e6b802c",
   "metadata": {
    "execution": {
     "iopub.execute_input": "2024-02-10T16:10:29.229984Z",
     "iopub.status.busy": "2024-02-10T16:10:29.229509Z",
     "iopub.status.idle": "2024-02-10T16:10:29.236252Z",
     "shell.execute_reply": "2024-02-10T16:10:29.235256Z"
    },
    "papermill": {
     "duration": 0.031165,
     "end_time": "2024-02-10T16:10:29.238173",
     "exception": false,
     "start_time": "2024-02-10T16:10:29.207008",
     "status": "completed"
    },
    "tags": []
   },
   "outputs": [
    {
     "data": {
      "text/plain": [
       "0.045"
      ]
     },
     "execution_count": 23,
     "metadata": {},
     "output_type": "execute_result"
    }
   ],
   "source": [
    "from sklearn.metrics import mean_absolute_error\n",
    "\n",
    "mae = mean_absolute_error(y_test, preds)\n",
    "\n",
    "mae"
   ]
  },
  {
   "cell_type": "markdown",
   "id": "115321f0",
   "metadata": {
    "papermill": {
     "duration": 0.021257,
     "end_time": "2024-02-10T16:10:29.280821",
     "exception": false,
     "start_time": "2024-02-10T16:10:29.259564",
     "status": "completed"
    },
    "tags": []
   },
   "source": [
    "Test with the provided test set"
   ]
  },
  {
   "cell_type": "code",
   "execution_count": null,
   "id": "9aecfd45",
   "metadata": {
    "execution": {
     "iopub.execute_input": "2024-02-06T21:04:48.665554Z",
     "iopub.status.busy": "2024-02-06T21:04:48.664718Z",
     "iopub.status.idle": "2024-02-06T21:04:48.679182Z",
     "shell.execute_reply": "2024-02-06T21:04:48.678247Z",
     "shell.execute_reply.started": "2024-02-06T21:04:48.665516Z"
    },
    "papermill": {
     "duration": 0.02105,
     "end_time": "2024-02-10T16:10:29.322947",
     "exception": false,
     "start_time": "2024-02-10T16:10:29.301897",
     "status": "completed"
    },
    "tags": []
   },
   "outputs": [],
   "source": []
  },
  {
   "cell_type": "code",
   "execution_count": null,
   "id": "12d2d83e",
   "metadata": {
    "papermill": {
     "duration": 0.021189,
     "end_time": "2024-02-10T16:10:29.365146",
     "exception": false,
     "start_time": "2024-02-10T16:10:29.343957",
     "status": "completed"
    },
    "tags": []
   },
   "outputs": [],
   "source": []
  }
 ],
 "metadata": {
  "kaggle": {
   "accelerator": "nvidiaTeslaT4",
   "dataSources": [
    {
     "datasetId": 11167,
     "sourceId": 15520,
     "sourceType": "datasetVersion"
    }
   ],
   "dockerImageVersionId": 30646,
   "isGpuEnabled": true,
   "isInternetEnabled": true,
   "language": "python",
   "sourceType": "notebook"
  },
  "kernelspec": {
   "display_name": "Python 3",
   "language": "python",
   "name": "python3"
  },
  "language_info": {
   "codemirror_mode": {
    "name": "ipython",
    "version": 3
   },
   "file_extension": ".py",
   "mimetype": "text/x-python",
   "name": "python",
   "nbconvert_exporter": "python",
   "pygments_lexer": "ipython3",
   "version": "3.10.13"
  },
  "papermill": {
   "default_parameters": {},
   "duration": 11.469498,
   "end_time": "2024-02-10T16:10:29.904774",
   "environment_variables": {},
   "exception": null,
   "input_path": "__notebook__.ipynb",
   "output_path": "__notebook__.ipynb",
   "parameters": {},
   "start_time": "2024-02-10T16:10:18.435276",
   "version": "2.5.0"
  }
 },
 "nbformat": 4,
 "nbformat_minor": 5
}
